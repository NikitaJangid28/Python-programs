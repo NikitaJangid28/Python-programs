{
 "cells": [
  {
   "cell_type": "code",
   "execution_count": 1,
   "id": "826299e7",
   "metadata": {},
   "outputs": [
    {
     "name": "stdout",
     "output_type": "stream",
     "text": [
      "Enter your age:28\n",
      "you are eligible to vote\n"
     ]
    }
   ],
   "source": [
    "#\tProgram who takes input as age and tells whether you are eligible to vote or not ?\n",
    "age=int(input(\"Enter your age:\"))\n",
    "if age>=18:\n",
    "    print(\"you are eligible to vote\")\n",
    "else:\n",
    "     print (\"you are not eligible to vote\")"
   ]
  },
  {
   "cell_type": "code",
   "execution_count": 2,
   "id": "cc35acf7",
   "metadata": {},
   "outputs": [
    {
     "name": "stdout",
     "output_type": "stream",
     "text": [
      "Enter the First number:12\n",
      "Enter the Second number:3\n",
      "First is the largest number\n"
     ]
    }
   ],
   "source": [
    "#Program to find larger number entered by user.\n",
    "a=int(input(\"Enter the First number:\"))\n",
    "b=int(input(\"Enter the Second number:\"))\n",
    "if a>b:\n",
    "    print(\"First is the largest number\")\n",
    "else:\n",
    "    print(\"Second is the largest number\")"
   ]
  },
  {
   "cell_type": "code",
   "execution_count": 3,
   "id": "5a800fa3",
   "metadata": {},
   "outputs": [
    {
     "name": "stdout",
     "output_type": "stream",
     "text": [
      "7\n",
      "17\n",
      "37\n",
      "47\n",
      "67\n",
      "97\n",
      "107\n",
      "127\n",
      "137\n",
      "157\n"
     ]
    }
   ],
   "source": [
    "#Program to print first 10 prime numbers whose module with 5 is 2.\n",
    "\n",
    "def is_prime(n):\n",
    "    if n < 2:\n",
    "        return False\n",
    "    for i in range(2, int(n**0.5) + 1):\n",
    "        if n % i == 0:\n",
    "            return False\n",
    "    \n",
    "    return True\n",
    "\n",
    "count = 0\n",
    "num = 7\n",
    "while count < 10:\n",
    "    if num % 5 == 2 and is_prime(num):\n",
    "        print(num)\n",
    "        count += 1\n",
    "    num += 1\n"
   ]
  },
  {
   "cell_type": "code",
   "execution_count": 4,
   "id": "9e42699e",
   "metadata": {},
   "outputs": [
    {
     "name": "stdout",
     "output_type": "stream",
     "text": [
      "Enter the first number:20\n",
      "Enter the second number:12\n",
      "The average of these number is 16.0\n"
     ]
    }
   ],
   "source": [
    "# \tProgram to find the average of two numbers entered by a user?\n",
    "a=float(input(\"Enter the first number:\"))\n",
    "b=float(input(\"Enter the second number:\"))\n",
    "avg=(a+b)/2\n",
    "print(\"The average of these number is\",avg)"
   ]
  },
  {
   "cell_type": "code",
   "execution_count": 5,
   "id": "eec5e9ce",
   "metadata": {},
   "outputs": [
    {
     "name": "stdout",
     "output_type": "stream",
     "text": [
      "Enter the number to square:10\n",
      "Square of a number is: 100\n"
     ]
    }
   ],
   "source": [
    "# \tProgram to calculate Square entered by User .\n",
    "a=int(input(\"Enter the number to square:\"))\n",
    "Square=a*a\n",
    "print(\"Square of a number is:\",Square)"
   ]
  },
  {
   "cell_type": "code",
   "execution_count": 6,
   "id": "8d1640a9",
   "metadata": {},
   "outputs": [
    {
     "name": "stdout",
     "output_type": "stream",
     "text": [
      "Enter your name:divya\n",
      "Good Afternoon, divya\n"
     ]
    }
   ],
   "source": [
    "# \tProgram to display User entered name using Input() followed by “Good Afternoon”.\n",
    "Name=input(\"Enter your name:\")\n",
    "print(\"Good Afternoon,\",Name)"
   ]
  },
  {
   "cell_type": "code",
   "execution_count": 7,
   "id": "b9f72258",
   "metadata": {},
   "outputs": [
    {
     "name": "stdout",
     "output_type": "stream",
     "text": [
      "Enter a string: What is  your name?\n",
      "Modified string: What is your name?\n"
     ]
    }
   ],
   "source": [
    "#\tProgram to detect double Spaces in a User entered String if yes then replace it with single space. \n",
    "Input = input(\"Enter a string: \")\n",
    "while \"  \" in Input:\n",
    "    Input = Input.replace(\"  \", \" \")\n",
    "print(\"Modified string:\", Input)\n"
   ]
  },
  {
   "cell_type": "code",
   "execution_count": 11,
   "id": "cce342f7",
   "metadata": {},
   "outputs": [
    {
     "name": "stdout",
     "output_type": "stream",
     "text": [
      "Dear Sir,\n",
      "\n",
      "Python is a very amazing Programming language.\n",
      "\n",
      "Please share more Questions like this.\n",
      "\n",
      "Thank you!\n"
     ]
    }
   ],
   "source": [
    "#\tProgram to format below code using escape sequence Characters.“Dear Sir Python is very amazing Programming language.Please share more Questions like this Thank you”\n",
    "STR = \"Dear Sir,\\n\\nPython is a very amazing Programming language.\\n\\nPlease share more Questions like this.\\n\\nThank you!\"\n",
    "print(STR)\n"
   ]
  },
  {
   "cell_type": "code",
   "execution_count": 12,
   "id": "078a880a",
   "metadata": {},
   "outputs": [
    {
     "name": "stdout",
     "output_type": "stream",
     "text": [
      "Enter a number=7\n",
      "Enter name of friend #1: khushi\n",
      "Enter name of friend #2: deepak\n",
      "Enter name of friend #3: shubham\n",
      "Enter name of friend #4: vanshika\n",
      "Enter name of friend #5: aaditya\n",
      "Enter name of friend #6: pooja\n",
      "Enter name of friend #7: payal\n",
      "Friend names: ['khushi', 'deepak', 'shubham', 'vanshika', 'aaditya', 'pooja', 'payal']\n"
     ]
    }
   ],
   "source": [
    "#\tProgram to store 7 names of your friends entered by User .\n",
    "l = []\n",
    "n=int(input(\"Enter a number=\"))\n",
    "for i in range(0,n):\n",
    "    name = input(\"Enter name of friend #{}: \".format(i+1))\n",
    "    l.append(name)\n",
    "\n",
    "print(\"Friend names:\",l)\n"
   ]
  },
  {
   "cell_type": "code",
   "execution_count": 14,
   "id": "dbd1d4d9",
   "metadata": {},
   "outputs": [
    {
     "name": "stdout",
     "output_type": "stream",
     "text": [
      "Enter a number=10\n",
      "enter marks=12\n",
      "[12]\n",
      "sorted list: [12]\n",
      "enter marks=36\n",
      "[12, 36]\n",
      "sorted list: [12, 36]\n",
      "enter marks=45\n",
      "[12, 36, 45]\n",
      "sorted list: [12, 36, 45]\n",
      "enter marks=85\n",
      "[12, 36, 45, 85]\n",
      "sorted list: [12, 36, 45, 85]\n",
      "enter marks=52\n",
      "[12, 36, 45, 85, 52]\n",
      "sorted list: [12, 36, 45, 52, 85]\n",
      "enter marks=63\n",
      "[12, 36, 45, 52, 85, 63]\n",
      "sorted list: [12, 36, 45, 52, 63, 85]\n",
      "enter marks=63\n",
      "[12, 36, 45, 52, 63, 85, 63]\n",
      "sorted list: [12, 36, 45, 52, 63, 63, 85]\n",
      "enter marks=52\n",
      "[12, 36, 45, 52, 63, 63, 85, 52]\n",
      "sorted list: [12, 36, 45, 52, 52, 63, 63, 85]\n",
      "enter marks=41\n",
      "[12, 36, 45, 52, 52, 63, 63, 85, 41]\n",
      "sorted list: [12, 36, 41, 45, 52, 52, 63, 63, 85]\n",
      "enter marks=47\n",
      "[12, 36, 41, 45, 52, 52, 63, 63, 85, 47]\n",
      "sorted list: [12, 36, 41, 45, 47, 52, 52, 63, 63, 85]\n"
     ]
    }
   ],
   "source": [
    "#\tProgram to accept Marks of 10 students entered by user and display them in sorted Way.\n",
    "l=[]\n",
    "n=int(input(\"Enter a number=\"))\n",
    "for i in range(0,n):\n",
    "    mark=int(input(\"enter marks=\"))\n",
    "    l.append(mark)\n",
    "    print(l)\n",
    "    l.sort()\n",
    "    print(\"sorted list:\",l)"
   ]
  },
  {
   "cell_type": "code",
   "execution_count": 15,
   "id": "9503877f",
   "metadata": {},
   "outputs": [
    {
     "name": "stdout",
     "output_type": "stream",
     "text": [
      "['154', '145', '163', '156', '122', '189', '152', '189', '132', '153']\n"
     ]
    }
   ],
   "source": [
    "#\tProgram to save heights of 10 students in tuple and then change the height of 3rd student.\n",
    "t=('154','145','141','156','122','189','152','189','132','153')\n",
    "l=list(t)\n",
    "l[2]='163'\n",
    "print(l)"
   ]
  },
  {
   "cell_type": "code",
   "execution_count": 21,
   "id": "a9e330e9",
   "metadata": {},
   "outputs": [
    {
     "name": "stdout",
     "output_type": "stream",
     "text": [
      "1\n",
      "3\n",
      "6\n",
      "13\n",
      "18\n",
      "26\n",
      "35\n"
     ]
    }
   ],
   "source": [
    "#\tProgram to calculate sum of elements of list having value less than 10.\n",
    "list=[1,2,3,7,5,8,9,11]\n",
    "sum=0\n",
    "for i in list:\n",
    "    if i<10:\n",
    "        sum+=i\n",
    "        print(sum)\n",
    "            "
   ]
  },
  {
   "cell_type": "code",
   "execution_count": 23,
   "id": "d7d2e7c4",
   "metadata": {},
   "outputs": [
    {
     "name": "stdout",
     "output_type": "stream",
     "text": [
      "number of teenager: 7\n"
     ]
    }
   ],
   "source": [
    "# program to calculate teenager student in list.list=[11,9,14,18,15,16,20,13,16,17,13,18,0]\n",
    "list=[11,9,14,18,15,16,20,13,16,17,13,18,0]\n",
    "count=0\n",
    "for i in list:\n",
    "    if(i>=13 and i<=17):\n",
    "        count+=1\n",
    "print(\"number of teenager:\",count)"
   ]
  },
  {
   "cell_type": "code",
   "execution_count": 24,
   "id": "826797ed",
   "metadata": {},
   "outputs": [
    {
     "name": "stdout",
     "output_type": "stream",
     "text": [
      "Enter name in English: nikita\n",
      "Enter meaning of the name:  \"victorious\" or \"conqueror\"\n",
      "Enter name in English: divya\n",
      "Enter meaning of the name: \"Divine Brilliance\".\n",
      "Enter name in English: mohit\n",
      "Enter meaning of the name: Ensnarled By Beauty; Attracted; Infatuated; Bewildered. \n",
      "Enter name in English: manish\n",
      "Enter meaning of the name: The God of the Mind\n",
      "Enter name in English: rohit\n",
      "Enter meaning of the name: the first rays of the sun\n",
      "Dictionary of names and their meanings: {'nikita': ' \"victorious\" or \"conqueror\"', 'divya': '\"Divine Brilliance\".', 'mohit': 'Ensnarled By Beauty; Attracted; Infatuated; Bewildered. ', 'manish': 'The God of the Mind', 'rohit': 'the first rays of the sun'}\n"
     ]
    }
   ],
   "source": [
    "#\tProgram to create a dictionary with keys=name in English and value = Meaning of name. \n",
    "name_meaning = {}\n",
    "for i in range(5):\n",
    "    name = input(\"Enter name in English: \")\n",
    "    meaning = input(\"Enter meaning of the name: \")\n",
    "    name_meaning[name] = meaning\n",
    "\n",
    "print(\"Dictionary of names and their meanings:\", name_meaning)\n"
   ]
  },
  {
   "cell_type": "code",
   "execution_count": 25,
   "id": "31ac305d",
   "metadata": {},
   "outputs": [
    {
     "name": "stdout",
     "output_type": "stream",
     "text": [
      "Enter a number: 10\n",
      "Enter a number: 12\n",
      "Enter a number: 45\n",
      "Enter a number: 56\n",
      "Enter a number: 52\n",
      "Enter a number: 32\n",
      "Enter a number: 23\n",
      "Enter a number: 41\n",
      "Enter a number: 14\n",
      "Enter a number: 47\n",
      "Distinct elements: 32 41 10 12 45 14 47 52 23 56 "
     ]
    }
   ],
   "source": [
    "#\tProgram to take 10 numbers input and display only distinct elements.\n",
    "numbers = []\n",
    "for i in range(10):\n",
    "    num = int(input(\"Enter a number: \"))\n",
    "    numbers.append(num)\n",
    "\n",
    "distinct_numbers = set(numbers)\n",
    "\n",
    "print(\"Distinct elements: \", end=\"\")\n",
    "for num in distinct_numbers:\n",
    "    print(num, end=\" \")"
   ]
  },
  {
   "cell_type": "code",
   "execution_count": 26,
   "id": "575dda14",
   "metadata": {},
   "outputs": [
    {
     "name": "stdout",
     "output_type": "stream",
     "text": [
      "Enter marks in subject 1 (out of 100): 74\n",
      "Enter marks in subject 2 (out of 100): 84\n",
      "Enter marks in subject 3 (out of 100): 85\n",
      "Enter marks in subject 4 (out of 100): 96\n",
      "Enter marks in subject 5 (out of 100): 99\n",
      "Congratulations, you have passed overall!\n"
     ]
    }
   ],
   "source": [
    "#Program to find out whether a student is overall pass or fail. His marks in 5 subjects entered by the user. To pass in each subject he must score 33%.To overall pass he must pass in all subjects and total marks in all subjects greater than 40%. Maximum marks in each subject is 100.\n",
    "\n",
    "subject1 = int(input(\"Enter marks in subject 1 (out of 100): \"))\n",
    "subject2 = int(input(\"Enter marks in subject 2 (out of 100): \"))\n",
    "subject3 = int(input(\"Enter marks in subject 3 (out of 100): \"))\n",
    "subject4 = int(input(\"Enter marks in subject 4 (out of 100): \"))\n",
    "subject5 = int(input(\"Enter marks in subject 5 (out of 100): \"))\n",
    "\n",
    "passing_marks = 33\n",
    "passed_in_all_subjects = True\n",
    "\n",
    "if subject1 < passing_marks:\n",
    "    passed_in_all_subjects = False\n",
    "    print(\"You failed in subject 1.\")\n",
    "    \n",
    "if subject2 < passing_marks:\n",
    "    passed_in_all_subjects = False\n",
    "    print(\"You failed in subject 2.\")\n",
    "    \n",
    "if subject3 < passing_marks:\n",
    "    passed_in_all_subjects = False\n",
    "    print(\"You failed in subject 3.\")\n",
    "    \n",
    "if subject4 < passing_marks:\n",
    "    passed_in_all_subjects = False\n",
    "    print(\"You failed in subject 4.\")\n",
    "    \n",
    "if subject5 < passing_marks:\n",
    "    passed_in_all_subjects = False\n",
    "    print(\"You failed in subject 5.\")\n",
    "    \n",
    "total_marks = subject1 + subject2 + subject3 + subject4 + subject5\n",
    "passing_percentage = 40\n",
    "overall_pass = passed_in_all_subjects and (total_marks / 500) * 100 >= passing_percentage\n",
    "\n",
    "\n",
    "if overall_pass:\n",
    "    print(\"Congratulations, you have passed overall!\")\n",
    "else:\n",
    "    print(\"Sorry, you have failed overall.\")\n"
   ]
  },
  {
   "cell_type": "code",
   "execution_count": 27,
   "id": "1750de05",
   "metadata": {},
   "outputs": [
    {
     "name": "stdout",
     "output_type": "stream",
     "text": [
      "Enter some text: To make a lot of money, subscribe this channel\n",
      "This text is spam.\n"
     ]
    }
   ],
   "source": [
    "#\tA mail is defined as spam if it contains any from the below keywords. Write a program to check if text entered by a user is spam or not. spam_words=[“make a lot of money”, “buy now” , “subscribe this” , “Click this”, “you Won” ,”Discount” ,”Coupan”]\n",
    "spam_words = [\"make a lot of money\", \"buy now\", \"subscribe this\", \"click this\", \"you won\", \"discount\", \"coupon\"]\n",
    "text = input(\"Enter some text: \")\n",
    "contains_spam = False\n",
    "for word in spam_words:\n",
    "    if word in text.lower():\n",
    "        contains_spam = True\n",
    "        break\n",
    "if contains_spam:\n",
    "    print(\"This text is spam.\")\n",
    "else:\n",
    "    print(\"This text is not spam.\")\n",
    "\n"
   ]
  },
  {
   "cell_type": "code",
   "execution_count": 28,
   "id": "7ee824b1",
   "metadata": {},
   "outputs": [
    {
     "name": "stdout",
     "output_type": "stream",
     "text": [
      "Enter your username: nikitajangid\n",
      "Your username is not 10 characters long.\n"
     ]
    }
   ],
   "source": [
    "#\tProgram to check whether an entered username is 10 characters long or not. \n",
    "username = input(\"Enter your username: \")\n",
    "if len(username) == 10:\n",
    "    print(\"Your username is exactly 10 characters long.\")\n",
    "else:\n",
    "    print(\"Your username is not 10 characters long.\")\n"
   ]
  },
  {
   "cell_type": "code",
   "execution_count": 29,
   "id": "15531195",
   "metadata": {},
   "outputs": [
    {
     "name": "stdout",
     "output_type": "stream",
     "text": [
      "Enter your K_ID: k23205\n",
      "Your K_ID is not valid or does not exist in our database.\n"
     ]
    }
   ],
   "source": [
    "#\tProgram to check whether a entered K_ID is valid or Not. Valid means exist in Our Database.\n",
    "valid_K_IDs = ['K12345', 'K23456', 'K34567', 'K45678']\n",
    "K_ID = input(\"Enter your K_ID: \")\n",
    "if K_ID in valid_K_IDs:\n",
    "    print(\"Your K_ID is valid and exists in our database.\")\n",
    "else:\n",
    "    print(\"Your K_ID is not valid or does not exist in our database.\")\n"
   ]
  },
  {
   "cell_type": "code",
   "execution_count": 30,
   "id": "7f687c4d",
   "metadata": {},
   "outputs": [
    {
     "name": "stdout",
     "output_type": "stream",
     "text": [
      "Enter your review: very poor, there is a cheap visualization in your analysis report \n",
      "Your review is negative.\n"
     ]
    }
   ],
   "source": [
    "#\tProgram to find whether a user entered a Review is positive or Negative.+ve means text contains from [“good”, “amazing”, “value for money”] -ve means text containing words from [“cheap”, “poor”,”fraud”]. \n",
    "\n",
    "positive_keywords = [\"good\", \"amazing\", \"value for money\"]\n",
    "negative_keywords = [\"cheap\", \"poor\", \"fraud\"]\n",
    "review = input(\"Enter your review: \")\n",
    "positive_count = 0\n",
    "negative_count = 0\n",
    "\n",
    "for word in review.split():\n",
    "    if word in positive_keywords:\n",
    "        positive_count += 1\n",
    "    elif word in negative_keywords:\n",
    "        negative_count += 1\n",
    "\n",
    "if positive_count > negative_count:\n",
    "    print(\"Your review is positive.\")\n",
    "elif negative_count > positive_count:\n",
    "    print(\"Your review is negative.\")\n",
    "else:\n",
    "    print(\"Your review is neutral.\")\n"
   ]
  },
  {
   "cell_type": "code",
   "execution_count": 31,
   "id": "5c37bd23",
   "metadata": {},
   "outputs": [
    {
     "name": "stdout",
     "output_type": "stream",
     "text": [
      "Enter a number: 5\n",
      "5 x 1 = 5\n",
      "5 x 2 = 10\n",
      "5 x 3 = 15\n",
      "5 x 4 = 20\n",
      "5 x 5 = 25\n",
      "5 x 6 = 30\n",
      "5 x 7 = 35\n",
      "5 x 8 = 40\n",
      "5 x 9 = 45\n",
      "5 x 10 = 50\n"
     ]
    }
   ],
   "source": [
    "#\tCreate two programs to print a table of user entered number using while and for loop. \n",
    "num = int(input(\"Enter a number: \"))\n",
    "i = 1\n",
    "while i <= 10:\n",
    "    print(num, \"x\", i, \"=\", num*i)\n",
    "    i += 1\n"
   ]
  },
  {
   "cell_type": "code",
   "execution_count": 32,
   "id": "2faf587f",
   "metadata": {},
   "outputs": [
    {
     "name": "stdout",
     "output_type": "stream",
     "text": [
      "Enter a number: 10\n",
      "10 x 1 = 10\n",
      "10 x 2 = 20\n",
      "10 x 3 = 30\n",
      "10 x 4 = 40\n",
      "10 x 5 = 50\n",
      "10 x 6 = 60\n",
      "10 x 7 = 70\n",
      "10 x 8 = 80\n",
      "10 x 9 = 90\n",
      "10 x 10 = 100\n"
     ]
    }
   ],
   "source": [
    "num = int(input(\"Enter a number: \"))\n",
    "for i in range(1, 11):\n",
    "    print(num, \"x\", i, \"=\", num*i)\n",
    "\n",
    "    "
   ]
  },
  {
   "cell_type": "code",
   "execution_count": 33,
   "id": "f7cab8b6",
   "metadata": {},
   "outputs": [
    {
     "name": "stdout",
     "output_type": "stream",
     "text": [
      "Enter a positive integer: 8\n",
      "The sum of the first 8 natural numbers is 36\n"
     ]
    }
   ],
   "source": [
    "#\tProgram to calculate sum of first N natural numbers. \n",
    "n = int(input(\"Enter a positive integer:\" ))\n",
    "sum = 0\n",
    "for i in range(1, n+1):\n",
    "    sum += i\n",
    "print(\"The sum of the first\", n, \"natural numbers is\", sum)\n"
   ]
  },
  {
   "cell_type": "code",
   "execution_count": 34,
   "id": "96fd1de5",
   "metadata": {},
   "outputs": [
    {
     "name": "stdout",
     "output_type": "stream",
     "text": [
      "Enter a number: 10\n",
      "10 x 10 = 100\n",
      "10 x 9 = 90\n",
      "10 x 8 = 80\n",
      "10 x 7 = 70\n",
      "10 x 6 = 60\n",
      "10 x 5 = 50\n",
      "10 x 4 = 40\n",
      "10 x 3 = 30\n",
      "10 x 2 = 20\n",
      "10 x 1 = 10\n"
     ]
    }
   ],
   "source": [
    "#\tProgram to print table of a number in reversed order\n",
    "num = int(input(\"Enter a number: \"))\n",
    "for i in range(10, 0, -1):\n",
    "    print(num, \"x\", i, \"=\", num*i)\n"
   ]
  },
  {
   "cell_type": "code",
   "execution_count": null,
   "id": "f50ecc6c",
   "metadata": {},
   "outputs": [],
   "source": []
  }
 ],
 "metadata": {
  "kernelspec": {
   "display_name": "Python 3 (ipykernel)",
   "language": "python",
   "name": "python3"
  },
  "language_info": {
   "codemirror_mode": {
    "name": "ipython",
    "version": 3
   },
   "file_extension": ".py",
   "mimetype": "text/x-python",
   "name": "python",
   "nbconvert_exporter": "python",
   "pygments_lexer": "ipython3",
   "version": "3.9.13"
  }
 },
 "nbformat": 4,
 "nbformat_minor": 5
}
